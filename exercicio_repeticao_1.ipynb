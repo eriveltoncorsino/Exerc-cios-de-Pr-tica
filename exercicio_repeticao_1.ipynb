{
 "cells": [
  {
   "cell_type": "raw",
   "id": "b231d6b8",
   "metadata": {},
   "source": [
    "Faça um programa que peça uma nota, entre zero e dez. \n",
    "Mostre uma mensagem caso o valor seja inválido e continue pedindo até que o usuário informe um valor válido."
   ]
  },
  {
   "cell_type": "code",
   "execution_count": 1,
   "id": "1e5d9b17",
   "metadata": {},
   "outputs": [
    {
     "name": "stdout",
     "output_type": "stream",
     "text": [
      "Digite sua nota: 5\n",
      "Sua nota foi: 5.0.\n"
     ]
    }
   ],
   "source": [
    "nota = float(input('Digite sua nota: '))\n",
    "while nota < 0.0 or nota > 10.0:\n",
    "    print('Digite sua nota corretamente: ')\n",
    "    nota = float(input('Digite sua nota: '))\n",
    "print('Sua nota foi: {}.'.format(nota))\n"
   ]
  },
  {
   "cell_type": "code",
   "execution_count": null,
   "id": "e94ac2ae",
   "metadata": {},
   "outputs": [],
   "source": []
  },
  {
   "cell_type": "code",
   "execution_count": null,
   "id": "1b7e8a61",
   "metadata": {},
   "outputs": [],
   "source": []
  }
 ],
 "metadata": {
  "kernelspec": {
   "display_name": "Python 3 (ipykernel)",
   "language": "python",
   "name": "python3"
  },
  "language_info": {
   "codemirror_mode": {
    "name": "ipython",
    "version": 3
   },
   "file_extension": ".py",
   "mimetype": "text/x-python",
   "name": "python",
   "nbconvert_exporter": "python",
   "pygments_lexer": "ipython3",
   "version": "3.9.7"
  }
 },
 "nbformat": 4,
 "nbformat_minor": 5
}
