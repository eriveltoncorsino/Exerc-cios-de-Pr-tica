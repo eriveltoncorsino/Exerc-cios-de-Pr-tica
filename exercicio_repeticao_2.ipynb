{
 "cells": [
  {
   "cell_type": "raw",
   "id": "799bf515",
   "metadata": {},
   "source": [
    "Faça um programa que leia um nome de usuário e a sua senha e não aceite a senha igual ao nome do usuário,\n",
    "mostrando uma mensagem de erro e voltando a pedir as informações.\n"
   ]
  },
  {
   "cell_type": "code",
   "execution_count": 1,
   "id": "6167b8a6",
   "metadata": {},
   "outputs": [
    {
     "name": "stdout",
     "output_type": "stream",
     "text": [
      "Digite o usuário: eri\n",
      "digite a senha: eri\n",
      "A senha não pode ser igual ao usuário. Digite corretamente:\n",
      "Digite o usuário: eriva\n",
      "digite a senha: eri\n",
      "Dados cadastrados com sucesso!\n"
     ]
    }
   ],
   "source": [
    "nome = input('Digite o usuário: ')\n",
    "senha = input('digite a senha: ')\n",
    "\n",
    "while senha == nome:\n",
    "        print('A senha não pode ser igual ao usuário. Digite corretamente:')\n",
    "        nome = input('Digite o usuário: ')\n",
    "        senha = input('digite a senha: ')\n",
    "print('Dados cadastrados com sucesso!')"
   ]
  },
  {
   "cell_type": "code",
   "execution_count": null,
   "id": "6ed37736",
   "metadata": {},
   "outputs": [],
   "source": []
  }
 ],
 "metadata": {
  "kernelspec": {
   "display_name": "Python 3 (ipykernel)",
   "language": "python",
   "name": "python3"
  },
  "language_info": {
   "codemirror_mode": {
    "name": "ipython",
    "version": 3
   },
   "file_extension": ".py",
   "mimetype": "text/x-python",
   "name": "python",
   "nbconvert_exporter": "python",
   "pygments_lexer": "ipython3",
   "version": "3.9.7"
  }
 },
 "nbformat": 4,
 "nbformat_minor": 5
}
