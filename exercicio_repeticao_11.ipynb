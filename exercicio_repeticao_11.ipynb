{
 "cells": [
  {
   "cell_type": "markdown",
   "id": "674696d2",
   "metadata": {},
   "source": [
    "Faça um programa que receba dois números inteiros e gere os números inteiros que estão no intervalo compreendido por eles.\n",
    "Altere o programa anterior para mostrar no final a soma dos números."
   ]
  },
  {
   "cell_type": "code",
   "execution_count": 22,
   "id": "fc1b4c94",
   "metadata": {},
   "outputs": [
    {
     "name": "stdout",
     "output_type": "stream",
     "text": [
      "digite um numero--> 1\n",
      "digite outro numero--> 11\n",
      "55\n"
     ]
    }
   ],
   "source": [
    "numeros=[]\n",
    "num1=int(input(\"digite um numero--> \"))\n",
    "num2=int(input(\"digite outro numero--> \"))\n",
    "while num2<num1:\n",
    "    num1=int(input(\"digite um numero--> \"))\n",
    "    num2=int(input(\"digite outro numero--> \"))\n",
    "else:\n",
    "    for i in range(num1,num2,1):\n",
    "         numeros.append(i)\n",
    "soma = sum(numeros)\n",
    "print(soma)"
   ]
  },
  {
   "cell_type": "code",
   "execution_count": null,
   "id": "40cf3247",
   "metadata": {},
   "outputs": [],
   "source": []
  },
  {
   "cell_type": "code",
   "execution_count": null,
   "id": "5a338a25",
   "metadata": {},
   "outputs": [],
   "source": []
  }
 ],
 "metadata": {
  "kernelspec": {
   "display_name": "Python 3 (ipykernel)",
   "language": "python",
   "name": "python3"
  },
  "language_info": {
   "codemirror_mode": {
    "name": "ipython",
    "version": 3
   },
   "file_extension": ".py",
   "mimetype": "text/x-python",
   "name": "python",
   "nbconvert_exporter": "python",
   "pygments_lexer": "ipython3",
   "version": "3.9.7"
  }
 },
 "nbformat": 4,
 "nbformat_minor": 5
}
