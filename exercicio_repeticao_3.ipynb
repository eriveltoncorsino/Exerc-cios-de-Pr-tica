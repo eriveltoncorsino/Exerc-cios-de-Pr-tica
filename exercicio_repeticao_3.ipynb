{
 "cells": [
  {
   "cell_type": "raw",
   "id": "c1404e3f",
   "metadata": {},
   "source": [
    "Faça um programa que leia e valide as seguintes informações:\n",
    "Nome: maior que 3 caracteres;\n",
    "Idade: entre 0 e 150;\n",
    "Salário: maior que zero;\n",
    "Sexo: 'f' ou 'm';\n",
    "Estado Civil: 's', 'c', 'v', 'd';"
   ]
  },
  {
   "cell_type": "code",
   "execution_count": null,
   "id": "3cafc1f8",
   "metadata": {},
   "outputs": [],
   "source": [
    "nome = input('Digite o nome: ')\n",
    "while len(nome) <= 3:\n",
    "    nome = input('Digite o nome: ')\n",
    "    \n",
    "idade = float(input('Digite a idade: '))\n",
    "while idade >= 150 or idade <= 0:\n",
    "    idade = float(input('Digite a idade: '))\n",
    "    \n",
    "salario = float(input('Digite o salário: R$ '))\n",
    "while salario <= 0:\n",
    "    salario = float(input('Digite o salário: R$ '))\n",
    "\n",
    "sexo = str(input('Digite o sexo: '))\n",
    "while sexo !='m' and sexo !='f':\n",
    "    sexo = str(input('Digite o sexo: '))\n",
    "\n",
    "estado_civil = str(input('Estado civil: '))\n",
    "while estado_civil !='s' and estado_civil !='c' and estado_civil !='v' and estado_civil !='d':\n",
    "    estado_civil = str(input('Estado civil: '))\n",
    "    \n",
    "\n"
   ]
  },
  {
   "cell_type": "code",
   "execution_count": null,
   "id": "f8130986",
   "metadata": {},
   "outputs": [],
   "source": []
  }
 ],
 "metadata": {
  "kernelspec": {
   "display_name": "Python 3 (ipykernel)",
   "language": "python",
   "name": "python3"
  },
  "language_info": {
   "codemirror_mode": {
    "name": "ipython",
    "version": 3
   },
   "file_extension": ".py",
   "mimetype": "text/x-python",
   "name": "python",
   "nbconvert_exporter": "python",
   "pygments_lexer": "ipython3",
   "version": "3.9.7"
  }
 },
 "nbformat": 4,
 "nbformat_minor": 5
}
