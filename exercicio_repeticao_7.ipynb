{
 "cells": [
  {
   "cell_type": "code",
   "execution_count": 1,
   "id": "a97e5318",
   "metadata": {},
   "outputs": [
    {
     "name": "stdout",
     "output_type": "stream",
     "text": [
      "Digite um número: 4\n",
      "Digite um número: 5\n",
      "Digite um número: 8\n",
      "Digite um número: 9\n",
      "Digite um número: 11\n",
      "O maior número é o 11\n"
     ]
    }
   ],
   "source": [
    "'''Faça um programa que leia 5 números e informe o maior número.'''\n",
    "numeros = []\n",
    "for num in range(1, 6): # para cada num da lista de de números de 1 a 6 \n",
    "    numeros.append(int(input(\"Digite um número: \")))# anexa um número na lista\n",
    "\n",
    "maiorNumero = numeros[0]\n",
    "\n",
    "cont = 1\n",
    "while cont < len(numeros): # enquanto a variavel cont for menor que a quantidade de números\n",
    "    if numeros[cont] > maiorNumero: # se a variável cont da lista números for o maior número\n",
    "        maiorNumero = numeros[cont]\n",
    "    cont = cont + 1\n",
    "        \n",
    "print (\"O maior número é o \" + str (maiorNumero))"
   ]
  },
  {
   "cell_type": "code",
   "execution_count": null,
   "id": "5ddf342b",
   "metadata": {},
   "outputs": [],
   "source": []
  }
 ],
 "metadata": {
  "kernelspec": {
   "display_name": "Python 3 (ipykernel)",
   "language": "python",
   "name": "python3"
  },
  "language_info": {
   "codemirror_mode": {
    "name": "ipython",
    "version": 3
   },
   "file_extension": ".py",
   "mimetype": "text/x-python",
   "name": "python",
   "nbconvert_exporter": "python",
   "pygments_lexer": "ipython3",
   "version": "3.9.7"
  }
 },
 "nbformat": 4,
 "nbformat_minor": 5
}
