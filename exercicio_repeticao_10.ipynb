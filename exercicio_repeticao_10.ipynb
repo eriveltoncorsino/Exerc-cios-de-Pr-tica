{
 "cells": [
  {
   "cell_type": "markdown",
   "id": "81f24a0c",
   "metadata": {},
   "source": [
    "Faça um programa que receba dois números inteiros e gere os números inteiros que estão no intervalo compreendido por eles."
   ]
  },
  {
   "cell_type": "code",
   "execution_count": 5,
   "id": "3b240754",
   "metadata": {},
   "outputs": [
    {
     "name": "stdout",
     "output_type": "stream",
     "text": [
      "digite um numero--> 1\n",
      "digite outro numero--> 9\n",
      "1\n",
      "2\n",
      "3\n",
      "4\n",
      "5\n",
      "6\n",
      "7\n",
      "8\n"
     ]
    }
   ],
   "source": [
    "num1=int(input(\"digite um numero--> \"))\n",
    "num2=int(input(\"digite outro numero--> \"))\n",
    "while num2<num1:\n",
    "    num1=int(input(\"digite um numero--> \"))\n",
    "    num2=int(input(\"digite outro numero--> \"))\n",
    "else:\n",
    "    for i in range(num1,num2,1):\n",
    "        print(i)"
   ]
  },
  {
   "cell_type": "code",
   "execution_count": null,
   "id": "702ee749",
   "metadata": {},
   "outputs": [],
   "source": []
  },
  {
   "cell_type": "code",
   "execution_count": null,
   "id": "4109ca45",
   "metadata": {},
   "outputs": [],
   "source": []
  },
  {
   "cell_type": "code",
   "execution_count": null,
   "id": "1811f4cf",
   "metadata": {},
   "outputs": [],
   "source": []
  }
 ],
 "metadata": {
  "kernelspec": {
   "display_name": "Python 3 (ipykernel)",
   "language": "python",
   "name": "python3"
  },
  "language_info": {
   "codemirror_mode": {
    "name": "ipython",
    "version": 3
   },
   "file_extension": ".py",
   "mimetype": "text/x-python",
   "name": "python",
   "nbconvert_exporter": "python",
   "pygments_lexer": "ipython3",
   "version": "3.9.7"
  }
 },
 "nbformat": 4,
 "nbformat_minor": 5
}
