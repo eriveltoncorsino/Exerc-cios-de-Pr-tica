{
 "cells": [
  {
   "cell_type": "raw",
   "id": "fbba54fe",
   "metadata": {},
   "source": [
    "Faça um programa que leia 5 números e informe a soma e a média dos números."
   ]
  },
  {
   "cell_type": "code",
   "execution_count": 19,
   "id": "fd4db3c9",
   "metadata": {},
   "outputs": [
    {
     "name": "stdout",
     "output_type": "stream",
     "text": [
      "Digite um número: 4\n",
      "Digite um número: 5\n",
      "Digite um número: 6\n",
      "Digite um número: 7\n",
      "Digite um número: 8\n",
      "A soma total é de 30 e a média é  6.0\n",
      "6.0\n"
     ]
    }
   ],
   "source": [
    "numeros = []\n",
    "for num in range(1, 6): # para cada num da lista de de números de 1 a 6 \n",
    "    numeros.append(int(input(\"Digite um número: \"))) # anexa um número na lista\n",
    "media= sum(numeros)/num    \n",
    "print(\"A soma total é de {} e a média é \".format(sum(numeros)), (media))\n"
   ]
  },
  {
   "cell_type": "markdown",
   "id": "9e65e9b6",
   "metadata": {},
   "source": [
    "##### "
   ]
  },
  {
   "cell_type": "code",
   "execution_count": null,
   "id": "fab690fc",
   "metadata": {},
   "outputs": [],
   "source": [
    "\n"
   ]
  }
 ],
 "metadata": {
  "kernelspec": {
   "display_name": "Python 3 (ipykernel)",
   "language": "python",
   "name": "python3"
  },
  "language_info": {
   "codemirror_mode": {
    "name": "ipython",
    "version": 3
   },
   "file_extension": ".py",
   "mimetype": "text/x-python",
   "name": "python",
   "nbconvert_exporter": "python",
   "pygments_lexer": "ipython3",
   "version": "3.9.7"
  }
 },
 "nbformat": 4,
 "nbformat_minor": 5
}
